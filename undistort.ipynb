{
 "cells": [
  {
   "cell_type": "code",
   "execution_count": null,
   "id": "rotary-listening",
   "metadata": {
    "scrolled": true
   },
   "outputs": [],
   "source": [
    "import matplotlib.pyplot as plt\n",
    "plt.rcParams['figure.dpi'] = 150\n",
    "import cv2\n",
    "import copy\n",
    "import os\n",
    "import numpy as np\n",
    "\n",
    "def imgshow(img):\n",
    "    if len(img.shape) == 3:\n",
    "        plt.imshow(img[:, :, ::-1])\n",
    "    else:\n",
    "        plt.imshow(img,cmap='gray',vmin=0, vmax=255)\n",
    "    plt.show() \n"
   ]
  },
  {
   "cell_type": "code",
   "execution_count": null,
   "id": "former-seller",
   "metadata": {
    "scrolled": true
   },
   "outputs": [],
   "source": [
    "def mkdir_always(path):\n",
    "    if not os.path.isdir(path):\n",
    "        os.mkdir(path)"
   ]
  },
  {
   "cell_type": "code",
   "execution_count": null,
   "id": "pending-motivation",
   "metadata": {
    "scrolled": true
   },
   "outputs": [],
   "source": [
    "CHESSBOARD_SIZE = (6, 9)\n",
    "\n",
    "\n",
    "def calibrate(chessboard_path, show_chessboard=False):\n",
    "    # Logical coordinates of chessboard corners\n",
    "    obj_p = np.zeros((1, CHESSBOARD_SIZE[0] * CHESSBOARD_SIZE[1], 3), np.float32)\n",
    "    obj_p[0, :, :2] = np.mgrid[0:CHESSBOARD_SIZE[0], 0:CHESSBOARD_SIZE[1]].T.reshape(-1, 2)\n",
    "\n",
    "    obj_points = []     # 3d point in real world space\n",
    "    img_points = []     # 2d points in image plane.\n",
    "\n",
    "    # Iterate through all images in the folder\n",
    "    dirs = os.listdir(chessboard_path)\n",
    "    image_list = [x for x in dirs if os.path.isfile(os.path.join(chessboard_path, x))]\n",
    "    gray = None\n",
    "    for image in image_list:\n",
    "        img = cv2.imread(os.path.join(chessboard_path, image))\n",
    "        #img = cv2.resize(img, (320,240), interpolation=cv2.INTER_AREA)\n",
    "        gray = cv2.cvtColor(img, cv2.COLOR_BGR2GRAY)\n",
    "        ret, corners = cv2.findChessboardCorners(gray, CHESSBOARD_SIZE,\n",
    "                                                 cv2.CALIB_CB_ADAPTIVE_THRESH + cv2.CALIB_CB_FAST_CHECK + cv2.CALIB_CB_NORMALIZE_IMAGE)\n",
    "        if ret:\n",
    "            # Refining corners position with sub-pixels based algorithm\n",
    "            obj_points.append(obj_p)\n",
    "            cv2.cornerSubPix(gray, corners, (3, 3), (-1, -1),\n",
    "                             (cv2.TERM_CRITERIA_EPS + cv2.TERM_CRITERIA_MAX_ITER, 30, 0.01))\n",
    "            img_points.append(corners)\n",
    "            print('Image is valid for calibration:' + image )\n",
    "            if show_chessboard:\n",
    "                cv2.drawChessboardCorners(img, CHESSBOARD_SIZE, corners, ret)\n",
    "                cv2.imwrite(os.path.join('./Chessboards_Corners', image), img)\n",
    "        else:\n",
    "            print('Image is NOT valid for calibration:' + image )\n",
    "\n",
    "#     print(obj_points)  \n",
    "#     print(img_points)   \n",
    "            \n",
    "    k = np.zeros((3, 3))\n",
    "    d = np.zeros((4, 1))\n",
    "    dims = gray.shape[::-1]\n",
    "    num_valid_img = len(obj_points)\n",
    "    if num_valid_img > 0:\n",
    "        rvecs = [np.zeros((1, 1, 3), dtype=np.float64) for _ in range(num_valid_img)]\n",
    "        tvecs = [np.zeros((1, 1, 3), dtype=np.float64) for _ in range(num_valid_img)]\n",
    "        rms, _, _, _, _ = cv2.fisheye.calibrate(obj_points, img_points, gray.shape[::-1], k, d, rvecs, tvecs,\n",
    "                                                # cv2.fisheye.CALIB_CHECK_COND +\n",
    "                                                # When CALIB_CHECK_COND is set, the algorithm checks if the detected corners of each images are valid.\n",
    "                                                # If not, an exception is thrown which indicates the zero-based index of the invalid image.\n",
    "                                                # Such image should be replaced or removed from the calibration dataset to ensure a good calibration.\n",
    "                                                cv2.fisheye.CALIB_RECOMPUTE_EXTRINSIC +\n",
    "                                                cv2.fisheye.CALIB_FIX_SKEW +\n",
    "                                                cv2.fisheye.CALIB_FIX_PRINCIPAL_POINT,\n",
    "                                                (cv2.TERM_CRITERIA_EPS + cv2.TERM_CRITERIA_MAX_ITER, 30, 1e-6))\n",
    "    print(\"Found \" + str(num_valid_img) + \" valid images for calibration\")\n",
    "    return k, d, dims\n",
    "\n",
    "\n",
    "\n",
    "if not os.path.exists('./parameters'):\n",
    "    os.makedirs('./parameters')\n",
    "if not os.path.exists('./Chessboards_Corners'):\n",
    "    os.makedirs('./Chessboards_Corners')\n",
    "\n",
    "K, D, Dims = calibrate('./Chessboards', show_chessboard=True)\n",
    "np.save('./parameters/Dims', np.array(Dims))\n",
    "np.save('./parameters/K', np.array(K))\n",
    "np.save('./parameters/D', np.array(D))"
   ]
  },
  {
   "cell_type": "code",
   "execution_count": null,
   "id": "skilled-attack",
   "metadata": {
    "scrolled": true
   },
   "outputs": [],
   "source": [
    "def calc_unfish_map(k, d, dims,alpha=0.5):  \n",
    "    nk = k.copy()\n",
    "   \n",
    "    # #enlarge image twice to get corner info\n",
    "    #nk[0,0]=k[0,0]/2\n",
    "    #nk[1,1]=k[1,1]/2\n",
    "    \n",
    "#     nk[0,0]=k[0,0]/1.25\n",
    "#     nk[1,1]=k[1,1]/1.25\n",
    "    \n",
    "#     nk, roi = cv2.getOptimalNewCameraMatrix(k, d, dims, 0,centerPrincipalPoint = True)\n",
    "\n",
    "    nk, roi = cv2.getOptimalNewCameraMatrix(k, d, dims, alpha, dims,centerPrincipalPoint = True)\n",
    "    \n",
    "    print(k)\n",
    "    print(nk)\n",
    "        \n",
    "        \n",
    "    map1, map2 = cv2.fisheye.initUndistortRectifyMap(k, d, np.eye(3), nk, dims, cv2.CV_16SC2)\n",
    "    \n",
    "    map1,map2 = cv2.convertMaps(map1, map2, cv2.CV_16SC2)\n",
    "\n",
    "\n",
    "    return map1,map2"
   ]
  },
  {
   "cell_type": "code",
   "execution_count": null,
   "id": "recorded-raleigh",
   "metadata": {
    "scrolled": true
   },
   "outputs": [],
   "source": [
    "Dims = tuple(np.load('./parameters/Dims.npy'))\n",
    "K = np.load('./parameters/K.npy')\n",
    "D = np.load('./parameters/D.npy')\n",
    "\n",
    "w = Dims[0]\n",
    "h = Dims[1]\n",
    "\n",
    "unfishmap1,unfishmap2=calc_unfish_map(k=K, d=D, dims=Dims,alpha=0.6)\n",
    "\n",
    "# print(K)\n",
    "# print(D)\n"
   ]
  },
  {
   "cell_type": "code",
   "execution_count": null,
   "id": "continent-report",
   "metadata": {
    "scrolled": true
   },
   "outputs": [],
   "source": []
  },
  {
   "cell_type": "code",
   "execution_count": null,
   "id": "unlimited-extent",
   "metadata": {
    "scrolled": true
   },
   "outputs": [],
   "source": [
    "# print(unfishmap1[::,::,0])\n",
    "\n",
    "center_x = (w-1)/2\n",
    "imgshow( abs(unfishmap1[::,::,0]-center_x)/center_x*255  )\n",
    "center_y = (h-1)/2\n",
    "imgshow( abs(unfishmap1[::,::,1]-center_y)/center_y*255  )"
   ]
  },
  {
   "cell_type": "code",
   "execution_count": null,
   "id": "running-purse",
   "metadata": {
    "scrolled": true
   },
   "outputs": [],
   "source": [
    "x_curve = np.linspace(-center_x/1.25,center_x/1.25,640)+center_x\n",
    "\n",
    "s = (h,w,2)\n",
    "\n",
    "map1 = np.zeros(s,dtype=np.float32)\n",
    "map1[::,::,0] = x_curve\n",
    "\n",
    "\n",
    "img = abs(unfishmap1[::,::,0]-map1[::,::,0])\n",
    "\n",
    "plt.imshow(img,cmap='gray')\n",
    "\n",
    "print(img)\n"
   ]
  },
  {
   "cell_type": "code",
   "execution_count": null,
   "id": "heavy-dividend",
   "metadata": {
    "scrolled": false
   },
   "outputs": [],
   "source": [
    "imgs = [cv2.imread('../angle_screenshots/img_{}.png'.format(i*10)) for i in range(0,10+1)]\n",
    "\n",
    "\n",
    "\n",
    "for img in imgs:\n",
    "    imgshow(img)\n",
    "    img = cv2.remap(img, unfishmap1, unfishmap2, interpolation=cv2.INTER_LINEAR, borderMode=cv2.BORDER_CONSTANT) \n",
    "    imgshow(img)\n",
    "\n"
   ]
  },
  {
   "cell_type": "code",
   "execution_count": null,
   "id": "intense-force",
   "metadata": {},
   "outputs": [],
   "source": [
    "imgs = [cv2.imread('../angle_screenshots/img_{}.png'.format(i*10)) for i in range(0,10+1)]\n",
    "\n",
    "\n",
    "\n",
    "for img in imgs:\n",
    "    imgshow(img)\n",
    "    img = cv2.remap(img, unfishmap1, unfishmap2, interpolation=cv2.INTER_LINEAR, borderMode=cv2.BORDER_CONSTANT) \n",
    "    imgshow(img)\n"
   ]
  }
 ],
 "metadata": {
  "kernelspec": {
   "display_name": "Python 3",
   "language": "python",
   "name": "python3"
  },
  "language_info": {
   "codemirror_mode": {
    "name": "ipython",
    "version": 3
   },
   "file_extension": ".py",
   "mimetype": "text/x-python",
   "name": "python",
   "nbconvert_exporter": "python",
   "pygments_lexer": "ipython3",
   "version": "3.8.5"
  }
 },
 "nbformat": 4,
 "nbformat_minor": 5
}
