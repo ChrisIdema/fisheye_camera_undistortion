{
 "cells": [
  {
   "cell_type": "code",
   "execution_count": null,
   "id": "unable-maryland",
   "metadata": {},
   "outputs": [],
   "source": [
    "import matplotlib.pyplot as plt\n",
    "plt.rcParams['figure.dpi'] = 150\n",
    "import cv2\n",
    "import os\n",
    "\n",
    "\n",
    "def imgshow(img):\n",
    "    if len(img.shape) == 3:\n",
    "        plt.imshow(img[:, :, ::-1])\n",
    "    else:\n",
    "        plt.imshow(img,cmap='gray',vmin=0, vmax=255)\n",
    "    plt.show() \n",
    " "
   ]
  },
  {
   "cell_type": "code",
   "execution_count": null,
   "id": "oriental-spider",
   "metadata": {},
   "outputs": [],
   "source": [
    "img = cv2.imread('distort.jpg')\n",
    "# img = cv2.imread('linear.jpg')\n",
    "imgshow(img)\n",
    "\n"
   ]
  },
  {
   "cell_type": "code",
   "execution_count": null,
   "id": "overall-nerve",
   "metadata": {},
   "outputs": [],
   "source": [
    "img = cv2.cvtColor(img, cv2.COLOR_BGR2GRAY)\n",
    "imgshow(img)"
   ]
  },
  {
   "cell_type": "code",
   "execution_count": null,
   "id": "fifteen-charter",
   "metadata": {},
   "outputs": [],
   "source": [
    "kernel_size = 3\n",
    "img = cv2.GaussianBlur(img,(kernel_size, kernel_size),0)\n",
    "imgshow(img)"
   ]
  },
  {
   "cell_type": "code",
   "execution_count": null,
   "id": "conceptual-least",
   "metadata": {},
   "outputs": [],
   "source": [
    "low_threshold = 50\n",
    "high_threshold = 150\n",
    "edges = cv2.Canny(img, low_threshold, high_threshold)\n",
    "imgshow(edges)"
   ]
  },
  {
   "cell_type": "code",
   "execution_count": null,
   "id": "bacterial-prince",
   "metadata": {},
   "outputs": [],
   "source": [
    "low_threshold = 0\n",
    "high_threshold = 10\n",
    "edges = cv2.Canny(img, low_threshold, high_threshold)\n",
    "imgshow(edges)"
   ]
  },
  {
   "cell_type": "code",
   "execution_count": null,
   "id": "strange-there",
   "metadata": {
    "scrolled": false
   },
   "outputs": [],
   "source": [
    "path = r'C:\\Users\\Chris\\Documents\\ee\\git\\hall_stills\\wide\\corrected'\n",
    "\n",
    "image_list = ['img_%i.png'%(i) for i in range(0,100+10,10)]\n",
    "# print(image_list)\n",
    "imgs = [cv2.imread(os.path.join(path,x)) for x in image_list]\n",
    "\n",
    "\n",
    "# for img in imgs:\n",
    "#     imgshow(img)\n",
    "\n",
    "# img2 = cv2.line(imgs[10], (106,440), (138,295), (0,255,0), 1)\n",
    "# imgshow(img2)\n",
    "\n",
    "line_points = [[[(505,440), (505,295)],[(397,350), (397,315)],[ (425,330), (425,295)]],\n",
    "               [[(165,425), (185,295)],[(47,385), (57,330)],[(104,350), (116,295)]]]\n",
    "\n",
    "img = imgs[0].copy()\n",
    "img = cv2.line(img, line_points[0][0][0], line_points[0][0][1], (0,255,0), 1)\n",
    "img = cv2.line(img, line_points[0][1][0], line_points[0][1][1], (0,255,0), 1)\n",
    "img = cv2.line(img, line_points[0][2][0], line_points[0][2][1], (0,255,0), 1)\n",
    "imgshow(img)\n",
    "\n",
    "img = imgs[9].copy()\n",
    "img = cv2.line(img, line_points[1][0][0], line_points[1][0][1], (0,255,0), 1)\n",
    "img = cv2.line(img, line_points[1][1][0], line_points[1][1][1], (0,255,0), 1)\n",
    "img = cv2.line(img, line_points[1][2][0], line_points[1][2][1], (0,255,0), 1)\n",
    "imgshow(img)\n"
   ]
  },
  {
   "cell_type": "code",
   "execution_count": null,
   "id": "acting-sheet",
   "metadata": {},
   "outputs": [],
   "source": []
  },
  {
   "cell_type": "code",
   "execution_count": null,
   "id": "considered-handle",
   "metadata": {},
   "outputs": [],
   "source": [
    "distances = [1.0,2.0,3.0]\n",
    "line_positions = []\n",
    "for i in range(3):\n",
    "    a = (line_points[0][i][0][0] + line_points[0][i][1][0]) / 2\n",
    "    b = (line_points[1][i][0][0] + line_points[1][i][1][0]) / 2\n",
    "    line_positions.append(a-b)\n",
    "# print(line_positions)\n",
    "\n",
    "plt.plot(distances,line_positions)\n",
    "plt.show()\n",
    "#no correlation for wide angle image, too distorted"
   ]
  },
  {
   "cell_type": "code",
   "execution_count": null,
   "id": "damaged-orchestra",
   "metadata": {
    "scrolled": false
   },
   "outputs": [],
   "source": [
    "path = r'C:\\Users\\Chris\\Documents\\ee\\git\\hall_stills\\small'\n",
    "\n",
    "image_list = ['img_%i.png'%(i) for i in range(0,100+10,10)]\n",
    "# print(image_list)\n",
    "imgs = [cv2.imread(os.path.join(path,x)) for x in image_list]\n",
    "\n",
    "# [imgshow(img) for img in imgs]\n",
    "# imgshow(imgs[2])\n",
    "# imgshow(imgs[4])\n",
    "\n",
    "# line_points = [[[(505,440), (505,295)],[(397,350), (397,315)]]],\n",
    "#                [[(165,425), (185,295)],[(47,385), (57,330)]]]\n",
    "\n",
    "img = imgs[2].copy()\n",
    "img = cv2.circle(img, (457,252), 3, (0,255,0), 1)\n",
    "img = cv2.circle(img, (432,258), 3, (0,255,0), 1)\n",
    "imgshow(img)\n",
    "\n",
    "img = imgs[4].copy()\n",
    "img = cv2.circle(img, (40,252), 3, (0,255,0), 1)\n",
    "img = cv2.circle(img, (12,258), 3, (0,255,0), 1)\n",
    "imgshow(img)\n",
    "\n",
    "a=457-40\n",
    "b=432-12\n",
    "\n",
    "print(a,b,a-b)\n",
    "#only 3 pixels difference in pixel shift"
   ]
  }
 ],
 "metadata": {
  "kernelspec": {
   "display_name": "Python 3",
   "language": "python",
   "name": "python3"
  },
  "language_info": {
   "codemirror_mode": {
    "name": "ipython",
    "version": 3
   },
   "file_extension": ".py",
   "mimetype": "text/x-python",
   "name": "python",
   "nbconvert_exporter": "python",
   "pygments_lexer": "ipython3",
   "version": "3.8.6"
  },
  "varInspector": {
   "cols": {
    "lenName": 16,
    "lenType": 16,
    "lenVar": 40
   },
   "kernels_config": {
    "python": {
     "delete_cmd_postfix": "",
     "delete_cmd_prefix": "del ",
     "library": "var_list.py",
     "varRefreshCmd": "print(var_dic_list())"
    },
    "r": {
     "delete_cmd_postfix": ") ",
     "delete_cmd_prefix": "rm(",
     "library": "var_list.r",
     "varRefreshCmd": "cat(var_dic_list()) "
    }
   },
   "types_to_exclude": [
    "module",
    "function",
    "builtin_function_or_method",
    "instance",
    "_Feature"
   ],
   "window_display": false
  }
 },
 "nbformat": 4,
 "nbformat_minor": 5
}
