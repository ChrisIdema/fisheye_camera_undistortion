{
 "cells": [
  {
   "cell_type": "code",
   "execution_count": 89,
   "id": "institutional-modification",
   "metadata": {},
   "outputs": [],
   "source": [
    "import matplotlib.pyplot as plt\n",
    "plt.rcParams['figure.dpi'] = 150\n",
    "import cv2\n",
    "import copy\n",
    "\n",
    "def imgshow(img):\n",
    "    if len(img.shape) == 3:\n",
    "        plt.imshow(img[:, :, ::-1])\n",
    "    else:\n",
    "        plt.imshow(img,cmap='gray',vmin=0, vmax=255)\n",
    "    plt.show() \n",
    "\n"
   ]
  },
  {
   "cell_type": "code",
   "execution_count": 86,
   "id": "coral-exception",
   "metadata": {},
   "outputs": [],
   "source": [
    "h = 480\n",
    "w = 640\n",
    "\n",
    "view_angle = 120\n",
    "\n",
    "angle_factor = w/view_angle\n",
    "\n",
    "lines = [[(100,100),(540-1,100)],\n",
    "         [(100,380-1),(540-1,380-1)],  \n",
    "         [(100,100),(100,380-1)], \n",
    "         [(540-1,100),(540-1,380-1)], \n",
    "        ]\n",
    "\n",
    "\n"
   ]
  },
  {
   "cell_type": "code",
   "execution_count": 100,
   "id": "explicit-helmet",
   "metadata": {},
   "outputs": [
    {
     "data": {
      "image/png": "[encoded data removed]",
      "text/plain": [
       "<Figure size 900x600 with 1 Axes>"
      ]
     },
     "metadata": {
      "needs_background": "light"
     },
     "output_type": "display_data"
    }
   ],
   "source": [
    "img = np.ones((480,640,3), dtype=np.uint8)*255\n",
    "\n",
    "for line in lines:\n",
    "    img = cv2.line(img, line[0], line[1], (0,0,0), 1)\n",
    "    \n",
    "\n",
    "imgshow(img)"
   ]
  },
  {
   "cell_type": "code",
   "execution_count": 98,
   "id": "abstract-survey",
   "metadata": {},
   "outputs": [
    {
     "data": {
      "image/png": "[encoded data removed]",
      "text/plain": [
       "<Figure size 900x600 with 1 Axes>"
      ]
     },
     "metadata": {
      "needs_background": "light"
     },
     "output_type": "display_data"
    }
   ],
   "source": [
    "img = np.ones((480,640,3), dtype=np.uint8)*255\n",
    "angle_x_change = 15\n",
    "\n",
    "lines_copy = copy.deepcopy(lines)\n",
    "\n",
    "def change_point(point,angle_x_change,angle_y_change):\n",
    "    x = point[0]\n",
    "    y = point[1]\n",
    "    \n",
    "    \n",
    "    x_angle = (x-w/2)/angle_factor\n",
    "    \n",
    "#     if abs(x_angle + angle_x_change) > view_angle/2:\n",
    "#         return ()\n",
    "        \n",
    "      \n",
    "    len0 = 1/ np.cos(np.radians(x_angle))\n",
    "    x_angle += angle_x_change\n",
    "    len1 = 1/ np.cos(np.radians(x_angle))\n",
    "    \n",
    "    \n",
    "    x = x_angle*angle_factor + w/2\n",
    "       \n",
    "    y_scale = len1/len0\n",
    "    \n",
    "    \n",
    "    y = (y - h/2) * y_scale + h/2\n",
    "    \n",
    "    \n",
    "    return (int(x),int(y))\n",
    "\n",
    "\n",
    "for line in lines_copy:\n",
    "    line[0] = change_point(line[0],angle_x_change,0)\n",
    "    line[1] = change_point(line[1],angle_x_change,0)\n",
    "\n",
    "    \n",
    "\n",
    "for line in lines_copy:\n",
    "    img = cv2.line(img, line[0], line[1], (0,0,0), 1)\n",
    "    \n",
    "imgshow(img)"
   ]
  },
  {
   "cell_type": "code",
   "execution_count": 108,
   "id": "collect-missouri",
   "metadata": {},
   "outputs": [],
   "source": [
    "angle_x_change = 15\n",
    "\n",
    "\n",
    "def calc_rotate_map(angle_x_change):    \n",
    "    h_angle = view_angle\n",
    "    v_angle = h_angle/w*h\n",
    "    s = (h,w,2)\n",
    "\n",
    "    map1 = np.zeros(s,dtype=np.float32)\n",
    "    map2= None   \n",
    "\n",
    "    x_curve = np.linspace(0,w-1,w)\n",
    "    \n",
    "    x_curve = (x_curve-w/2)/angle_factor\n",
    "    \n",
    "    len0 = 1/ np.cos(np.radians(x_curve))\n",
    "    x_curve += angle_x_change\n",
    "    len1 = 1/ np.cos(np.radians(x_curve))\n",
    "           \n",
    "    y_scale = len1/len0\n",
    "    \n",
    "    \n",
    "#     print(y_scale)\n",
    "    \n",
    "\n",
    "\n",
    "    map1[::,::,0] = np.linspace(0,w-1,w)\n",
    "    map1[::,::,1] = np.linspace(0,w-1,w)\n",
    "\n",
    "#     map1,map2 = cv2.convertMaps(map1, map2, cv2.CV_16SC2)\n",
    "\n",
    "    return map1,map2\n",
    "\n",
    "map1,map2 = calc_rotate_map(15)\n",
    "\n",
    "\n",
    "# img_rotated = cv2.remap(img, map1, map2, interpolation=cv2.INTER_LINEAR, borderMode=cv2.BORDER_CONSTANT)      \n",
    "# imgshow(img_rotated)"
   ]
  },
  {
   "cell_type": "code",
   "execution_count": 142,
   "id": "metallic-agenda",
   "metadata": {},
   "outputs": [
    {
     "name": "stdout",
     "output_type": "stream",
     "text": [
      "[0.9  0.95 1.   1.05 1.1 ]\n",
      "[[[ 0.          0.14999998]\n",
      "  [ 1.          0.07500005]\n",
      "  [ 2.          0.        ]\n",
      "  [ 3.         -0.07500005]\n",
      "  [ 4.         -0.14999998]]\n",
      "\n",
      " [[ 0.          1.05      ]\n",
      "  [ 1.          1.025     ]\n",
      "  [ 2.          1.        ]\n",
      "  [ 3.          0.975     ]\n",
      "  [ 4.          0.95      ]]\n",
      "\n",
      " [[ 0.          1.95      ]\n",
      "  [ 1.          1.975     ]\n",
      "  [ 2.          2.        ]\n",
      "  [ 3.          2.025     ]\n",
      "  [ 4.          2.05      ]]\n",
      "\n",
      " [[ 0.          2.85      ]\n",
      "  [ 1.          2.925     ]\n",
      "  [ 2.          3.        ]\n",
      "  [ 3.          3.075     ]\n",
      "  [ 4.          3.15      ]]]\n"
     ]
    }
   ],
   "source": [
    "s = (4,5,2)\n",
    "map1 = np.zeros(s,dtype=np.float32)\n",
    "\n",
    "map1[::,::,0] = np.linspace(0,5-1,5)\n",
    "\n",
    "y = np.linspace(0,4-1,4)\n",
    "\n",
    "map1[::,::,1] = np.repeat(np.transpose([y]),repeats=5,axis=1)\n",
    "\n",
    "y_scale = np.linspace(0.9,1.1,5)\n",
    "\n",
    "# y_scale = np.transpose([y_scale])\n",
    "\n",
    "print(y_scale)\n",
    "\n",
    "map1[::,::,1] -= 1.5\n",
    "map1[::,::,1]*=y_scale\n",
    "map1[::,::,1] += 1.5\n",
    "\n",
    "\n",
    "# map1[::,1,1] *= y_scale\n",
    "\n",
    "# print (y)\n",
    "\n",
    "print(map1)\n",
    "\n",
    "# print(map1[1,::,1]*y_scale)"
   ]
  },
  {
   "cell_type": "code",
   "execution_count": 103,
   "id": "subtle-causing",
   "metadata": {},
   "outputs": [],
   "source": [
    "path = r'C:\\Users\\Chris\\Documents\\ee\\git\\chess_world\\corrected'\n",
    "\n",
    "\n",
    "\n"
   ]
  }
 ],
 "metadata": {
  "kernelspec": {
   "display_name": "Python 3",
   "language": "python",
   "name": "python3"
  },
  "language_info": {
   "codemirror_mode": {
    "name": "ipython",
    "version": 3
   },
   "file_extension": ".py",
   "mimetype": "text/x-python",
   "name": "python",
   "nbconvert_exporter": "python",
   "pygments_lexer": "ipython3",
   "version": "3.8.6"
  },
  "varInspector": {
   "cols": {
    "lenName": 16,
    "lenType": 16,
    "lenVar": 40
   },
   "kernels_config": {
    "python": {
     "delete_cmd_postfix": "",
     "delete_cmd_prefix": "del ",
     "library": "var_list.py",
     "varRefreshCmd": "print(var_dic_list())"
    },
    "r": {
     "delete_cmd_postfix": ") ",
     "delete_cmd_prefix": "rm(",
     "library": "var_list.r",
     "varRefreshCmd": "cat(var_dic_list()) "
    }
   },
   "types_to_exclude": [
    "module",
    "function",
    "builtin_function_or_method",
    "instance",
    "_Feature"
   ],
   "window_display": false
  }
 },
 "nbformat": 4,
 "nbformat_minor": 5
}
