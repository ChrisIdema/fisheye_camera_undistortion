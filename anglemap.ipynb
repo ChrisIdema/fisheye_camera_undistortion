{
 "cells": [
  {
   "cell_type": "code",
   "execution_count": null,
   "id": "boring-belarus",
   "metadata": {},
   "outputs": [],
   "source": [
    "import matplotlib.pyplot as plt\n",
    "plt.rcParams['figure.dpi'] = 150\n",
    "import cv2\n",
    "import copy\n",
    "import os\n",
    "import numpy as np\n",
    "\n",
    "def imgshow(img):\n",
    "    if len(img.shape) == 3:\n",
    "        plt.imshow(img[:, :, ::-1])\n",
    "    else:\n",
    "        plt.imshow(img,cmap='gray',vmin=0, vmax=255)\n",
    "    plt.show() \n"
   ]
  },
  {
   "cell_type": "code",
   "execution_count": null,
   "id": "accompanied-stadium",
   "metadata": {},
   "outputs": [],
   "source": [
    "# with open('unfishmap2.csv', 'wb') as f:\n",
    "#     np.savetxt(f, unfishmap2, fmt='%d', delimiter=\",\",newline='\\n')\n",
    "\n",
    "raw = np.genfromtxt('fisheye_angle calibration_raw.csv',delimiter=',',skip_header=1)"
   ]
  },
  {
   "cell_type": "code",
   "execution_count": null,
   "id": "dependent-runner",
   "metadata": {},
   "outputs": [],
   "source": [
    "x,y = raw[::,0],raw[::,1]\n",
    "\n",
    "fig, ax = plt.subplots()\n",
    "ax.scatter(x, y)\n",
    "plt.show()\n",
    "\n",
    "x,y = raw[::,2],raw[::,3]\n",
    "\n",
    "fig, ax = plt.subplots()\n",
    "ax.scatter(x, y)\n",
    "plt.show()\n"
   ]
  },
  {
   "cell_type": "code",
   "execution_count": null,
   "id": "royal-falls",
   "metadata": {},
   "outputs": [],
   "source": [
    "'''\n",
    "bad:\n",
    "-angle offset\n",
    "-pixel noise\n",
    "-missing values\n",
    "\n",
    "good:\n",
    "-many samples\n",
    "-angles on grid\n",
    "-missing values mostly in 1 dimension\n",
    "\n",
    "-taks:\n",
    "-fix offset\n",
    "-convert to look-up table, quartered\n",
    "-reverse table\n",
    "-smooth data\n",
    "-fill missing datapoints\n",
    "-extrapolate?\n",
    "'''"
   ]
  },
  {
   "cell_type": "code",
   "execution_count": null,
   "id": "white-fruit",
   "metadata": {},
   "outputs": [],
   "source": [
    "line = raw[raw[::,0]==-55]\n",
    "dep,indep = line[::,2],line[::,1]\n",
    "\n",
    "fig, ax = plt.subplots()\n",
    "ax.scatter(x, y)\n",
    "plt.show()\n",
    "\n",
    "fit_func = np.poly1d(np.polyfit(indep,dep,2))\n",
    "dep_fit = fit_func(indep)\n",
    "\n",
    "fig, ax = plt.subplots()\n",
    "ax.scatter(indep, dep)\n",
    "plt.show()\n",
    "\n",
    "fig, ax = plt.subplots()\n",
    "ax.scatter(indep, dep_fit)\n",
    "plt.show()\n",
    "\n"
   ]
  },
  {
   "cell_type": "code",
   "execution_count": null,
   "id": "swedish-consultation",
   "metadata": {},
   "outputs": [],
   "source": []
  },
  {
   "cell_type": "code",
   "execution_count": null,
   "id": "coastal-majority",
   "metadata": {},
   "outputs": [],
   "source": []
  }
 ],
 "metadata": {
  "kernelspec": {
   "display_name": "Python 3",
   "language": "python",
   "name": "python3"
  },
  "language_info": {
   "codemirror_mode": {
    "name": "ipython",
    "version": 3
   },
   "file_extension": ".py",
   "mimetype": "text/x-python",
   "name": "python",
   "nbconvert_exporter": "python",
   "pygments_lexer": "ipython3",
   "version": "3.8.6"
  },
  "varInspector": {
   "cols": {
    "lenName": 16,
    "lenType": 16,
    "lenVar": 40
   },
   "kernels_config": {
    "python": {
     "delete_cmd_postfix": "",
     "delete_cmd_prefix": "del ",
     "library": "var_list.py",
     "varRefreshCmd": "print(var_dic_list())"
    },
    "r": {
     "delete_cmd_postfix": ") ",
     "delete_cmd_prefix": "rm(",
     "library": "var_list.r",
     "varRefreshCmd": "cat(var_dic_list()) "
    }
   },
   "types_to_exclude": [
    "module",
    "function",
    "builtin_function_or_method",
    "instance",
    "_Feature"
   ],
   "window_display": false
  }
 },
 "nbformat": 4,
 "nbformat_minor": 5
}
