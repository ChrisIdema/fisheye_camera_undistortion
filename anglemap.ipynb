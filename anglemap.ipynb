{
 "cells": [
  {
   "cell_type": "code",
   "execution_count": null,
   "id": "boring-belarus",
   "metadata": {
    "scrolled": true
   },
   "outputs": [],
   "source": [
    "import matplotlib.pyplot as plt\n",
    "plt.rcParams['figure.dpi'] = 150\n",
    "import cv2\n",
    "import copy\n",
    "import os\n",
    "import numpy as np\n",
    "\n",
    "from scipy import interpolate\n",
    "\n",
    "def imgshow(img):\n",
    "    if len(img.shape) == 3:\n",
    "        plt.imshow(img[:, :, ::-1])\n",
    "    else:\n",
    "        plt.imshow(img,cmap='gray',vmin=0, vmax=255)\n",
    "    plt.show() \n"
   ]
  },
  {
   "cell_type": "code",
   "execution_count": null,
   "id": "accompanied-stadium",
   "metadata": {
    "scrolled": true
   },
   "outputs": [],
   "source": [
    "# with open('unfishmap2.csv', 'wb') as f:\n",
    "#     np.savetxt(f, unfishmap2, fmt='%d', delimiter=\",\",newline='\\n')\n",
    "\n",
    "raw = np.genfromtxt('fisheye_angle calibration_raw.csv',delimiter=',',skip_header=1)"
   ]
  },
  {
   "cell_type": "code",
   "execution_count": null,
   "id": "dependent-runner",
   "metadata": {
    "scrolled": false
   },
   "outputs": [],
   "source": [
    "x,y = raw[::,0],raw[::,1]\n",
    "\n",
    "fig, ax = plt.subplots()\n",
    "ax.scatter(x, y)\n",
    "plt.show()\n",
    "\n",
    "x,y = raw[::,2],raw[::,3]\n",
    "\n",
    "fig, ax = plt.subplots()\n",
    "ax.scatter(x, y)\n",
    "plt.xlim([0, 639])\n",
    "plt.ylim([0, 479])\n",
    "plt.show()\n"
   ]
  },
  {
   "cell_type": "code",
   "execution_count": null,
   "id": "infectious-lloyd",
   "metadata": {
    "scrolled": true
   },
   "outputs": [],
   "source": [
    "'''\n",
    "bad:\n",
    "-angle offset\n",
    "-pixel noise\n",
    "-missing values\n",
    "\n",
    "good:\n",
    "-many samples\n",
    "-angles on grid\n",
    "-missing values mostly in 1 dimension\n",
    "\n",
    "-tasks:\n",
    "-fix offset\n",
    "-convert to look-up table, quartered\n",
    "-reverse table\n",
    "-smooth data\n",
    "-fill missing datapoints\n",
    "-extrapolate?\n",
    "'''"
   ]
  },
  {
   "cell_type": "code",
   "execution_count": null,
   "id": "compliant-scottish",
   "metadata": {
    "scrolled": false
   },
   "outputs": [],
   "source": [
    "line = raw[raw[::,0]==-55]\n",
    "dep,indep = line[::,2],line[::,1]\n",
    "\n",
    "fig, ax = plt.subplots()\n",
    "ax.scatter(x, y)\n",
    "plt.xlim([0, 639])\n",
    "plt.ylim([0, 479])\n",
    "plt.show()\n",
    "\n",
    "fit_func = np.poly1d(np.polyfit(indep,dep,2))\n",
    "dep_fit = fit_func(indep)\n",
    "\n",
    "indep_expanded = np.arange(-55,25+1,5)\n",
    "dep_fit_expanded = fit_func(indep_expanded)\n",
    "\n",
    "fig, ax = plt.subplots()\n",
    "ax.scatter(indep, dep)\n",
    "plt.show()\n",
    "\n",
    "fig, ax = plt.subplots()\n",
    "ax.scatter(indep, dep_fit)\n",
    "plt.show()\n",
    "\n",
    "\n",
    "fig, ax = plt.subplots()\n",
    "ax.scatter(indep_expanded, dep_fit_expanded)\n",
    "plt.show()\n",
    "\n"
   ]
  },
  {
   "cell_type": "code",
   "execution_count": null,
   "id": "appropriate-salvation",
   "metadata": {
    "scrolled": false
   },
   "outputs": [],
   "source": [
    "#smoothing:\n",
    "raw_copy = raw.copy()\n",
    "\n",
    "for i in range(-55,55+1,5):    \n",
    "    line = raw_copy[raw_copy[::,0]==i]\n",
    "    dep,indep = line[::,2],line[::,1]\n",
    "\n",
    "    fit_func = np.poly1d(np.polyfit(indep,dep,2))\n",
    "    dep_fit = fit_func(indep)\n",
    "    \n",
    "    raw_copy[raw_copy[::,0]==i,2] = dep_fit\n",
    "\n",
    "#     indep_expanded = np.arange(-55,25+1,5)\n",
    "#     dep_fit_expanded = fit_func(indep_expanded)\n",
    "\n",
    "x,y = raw_copy[::,2],raw_copy[::,3]\n",
    "fig, ax = plt.subplots()\n",
    "ax.scatter(x, y)\n",
    "plt.xlim([0, 639])\n",
    "plt.ylim([0, 479])\n",
    "plt.show()\n",
    "\n",
    "for i in range(-55,25+1,5):    \n",
    "    line = raw_copy[raw_copy[::,1]==i]\n",
    "    dep,indep = line[::,3],line[::,0]\n",
    "\n",
    "    fit_func = np.poly1d(np.polyfit(indep,dep,2))\n",
    "    dep_fit = fit_func(indep)\n",
    "    \n",
    "    raw_copy[raw_copy[::,1]==i,3] = dep_fit\n",
    "\n",
    "#     indep_expanded = np.arange(-55,25+1,5)\n",
    "#     dep_fit_expanded = fit_func(indep_expanded)\n",
    "\n",
    "x,y = raw_copy[::,2],raw_copy[::,3]\n",
    "fig, ax = plt.subplots()\n",
    "ax.scatter(x, y)\n",
    "plt.xlim([0, 639])\n",
    "plt.ylim([0, 479])\n",
    "plt.show()\n",
    "\n",
    "\n"
   ]
  },
  {
   "cell_type": "code",
   "execution_count": null,
   "id": "future-hampshire",
   "metadata": {
    "scrolled": false
   },
   "outputs": [],
   "source": [
    "x,y = raw_copy[::,2],raw_copy[::,3]\n",
    "fig, ax = plt.subplots()\n",
    "ax.scatter(x, y)\n",
    "ax.scatter(319.5,239.5)\n",
    "plt.xlim([0, 639])\n",
    "plt.ylim([0, 479])\n",
    "plt.show()\n",
    "\n",
    "# x,y = raw_copy[::,2],raw_copy[::,3]\n",
    "# z = raw_copy[::,0]\n",
    "# f = interpolate.interp2d(x, y, z, kind='linear')\n",
    "# x_angle_offset = f(319.5, 239.5)\n",
    "# print(x_angle_offset)\n",
    "# # z = raw_copy[::,1]\n",
    "# # f = interpolate.interp2d(x, y, z, kind='linear')\n",
    "# # y_angle_offset = f(319.5, 239.5)\n",
    "\n",
    "# # print(x_angle_offset,y_angle_offset)\n",
    "\n",
    "#check if point exists\n",
    "#(raw_copy[::,2]==319.5)  and (raw_copy[::,3]==239.5)\n",
    "\n",
    "# find surrounding points\n",
    "\n"
   ]
  },
  {
   "cell_type": "code",
   "execution_count": null,
   "id": "hollywood-pound",
   "metadata": {},
   "outputs": [],
   "source": [
    "x,y = raw_copy[::,2],raw_copy[::,3]\n",
    "distances_sqrd = (x-319.5)**2 + (y-239.5)**2\n",
    "\n",
    "x,y = raw_copy[::,2],raw_copy[::,3]\n",
    "fig, ax = plt.subplots()\n",
    "ax.scatter(x, y,distances_sqrd/10000)\n",
    "ax.scatter(319.5,239.5)\n",
    "plt.xlim([0, 639])\n",
    "plt.ylim([0, 479])\n",
    "plt.show()\n",
    "\n",
    "np.min(distances_sqrd)\n",
    "\n",
    "q1i = np.logical_and(raw_copy[::,2] < 319.5,raw_copy[::,3] < 239.5)\n",
    "q1 =  raw_copy[q1i]\n",
    "x,y = q1[::,2],q1[::,3]\n",
    "q1_near_i = np.argmin(distances_sqrd[q1i])\n",
    "print(q1[q1_near_i])\n",
    "\n",
    "fig, ax = plt.subplots()\n",
    "ax.scatter(x, y,distances_sqrd[q1i]/10000)\n",
    "ax.scatter(319.5,239.5)\n",
    "ax.scatter(q1[q1_near_i][2],q1[q1_near_i][3])\n",
    "\n",
    "\n",
    "plt.xlim([0, 639])\n",
    "plt.ylim([0, 479])\n",
    "plt.show()\n",
    "\n"
   ]
  },
  {
   "cell_type": "code",
   "execution_count": null,
   "id": "religious-hacker",
   "metadata": {},
   "outputs": [],
   "source": [
    "q1i"
   ]
  }
 ],
 "metadata": {
  "kernelspec": {
   "display_name": "Python 3",
   "language": "python",
   "name": "python3"
  },
  "language_info": {
   "codemirror_mode": {
    "name": "ipython",
    "version": 3
   },
   "file_extension": ".py",
   "mimetype": "text/x-python",
   "name": "python",
   "nbconvert_exporter": "python",
   "pygments_lexer": "ipython3",
   "version": "3.8.6"
  },
  "varInspector": {
   "cols": {
    "lenName": 16,
    "lenType": 16,
    "lenVar": 40
   },
   "kernels_config": {
    "python": {
     "delete_cmd_postfix": "",
     "delete_cmd_prefix": "del ",
     "library": "var_list.py",
     "varRefreshCmd": "print(var_dic_list())"
    },
    "r": {
     "delete_cmd_postfix": ") ",
     "delete_cmd_prefix": "rm(",
     "library": "var_list.r",
     "varRefreshCmd": "cat(var_dic_list()) "
    }
   },
   "types_to_exclude": [
    "module",
    "function",
    "builtin_function_or_method",
    "instance",
    "_Feature"
   ],
   "window_display": false
  }
 },
 "nbformat": 4,
 "nbformat_minor": 5
}
