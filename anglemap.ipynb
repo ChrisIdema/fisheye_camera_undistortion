{
 "cells": [
  {
   "cell_type": "code",
   "execution_count": 1,
   "id": "boring-belarus",
   "metadata": {},
   "outputs": [],
   "source": [
    "import matplotlib.pyplot as plt\n",
    "plt.rcParams['figure.dpi'] = 150\n",
    "import cv2\n",
    "import copy\n",
    "import os\n",
    "import numpy as np\n",
    "\n",
    "def imgshow(img):\n",
    "    if len(img.shape) == 3:\n",
    "        plt.imshow(img[:, :, ::-1])\n",
    "    else:\n",
    "        plt.imshow(img,cmap='gray',vmin=0, vmax=255)\n",
    "    plt.show() \n"
   ]
  },
  {
   "cell_type": "code",
   "execution_count": 5,
   "id": "accompanied-stadium",
   "metadata": {},
   "outputs": [],
   "source": [
    "# with open('unfishmap2.csv', 'wb') as f:\n",
    "#     np.savetxt(f, unfishmap2, fmt='%d', delimiter=\",\",newline='\\n')\n",
    "\n",
    "raw = np.genfromtxt('fisheye_angle calibration_raw.csv',delimiter=',')"
   ]
  },
  {
   "cell_type": "code",
   "execution_count": 6,
   "id": "dependent-runner",
   "metadata": {},
   "outputs": [
    {
     "data": {
      "text/plain": [
       "array([[-55. ,  25. , 604.6, 125.8],\n",
       "       [-50. ,  25. , 581.7, 120.7],\n",
       "       [-45. ,  25. , 558.5, 115.6],\n",
       "       ...,\n",
       "       [ 45. , -55. ,  54. , 450.9],\n",
       "       [ 50. , -55. ,  27.9, 432.8],\n",
       "       [ 55. , -55. ,   2.1, 412.2]])"
      ]
     },
     "execution_count": 6,
     "metadata": {},
     "output_type": "execute_result"
    }
   ],
   "source": [
    "raw\n"
   ]
  }
 ],
 "metadata": {
  "kernelspec": {
   "display_name": "Python 3",
   "language": "python",
   "name": "python3"
  },
  "language_info": {
   "codemirror_mode": {
    "name": "ipython",
    "version": 3
   },
   "file_extension": ".py",
   "mimetype": "text/x-python",
   "name": "python",
   "nbconvert_exporter": "python",
   "pygments_lexer": "ipython3",
   "version": "3.8.5"
  }
 },
 "nbformat": 4,
 "nbformat_minor": 5
}
